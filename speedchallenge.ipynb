{
 "cells": [
  {
   "cell_type": "code",
   "execution_count": null,
   "outputs": [],
   "source": [
    "import cv2\n",
    "import h5py\n",
    "import torch\n",
    "import torch.nn as nn\n",
    "import torch.nn.functional as F\n",
    "import numpy as np\n",
    "from PIL import Image\n",
    "from tqdm import tqdm\n",
    "from torch.utils.data import Dataset, DataLoader\n",
    "from torchvision import transforms"
   ],
   "metadata": {
    "collapsed": false,
    "pycharm": {
     "name": "#%%\n"
    }
   }
  },
  {
   "cell_type": "code",
   "execution_count": null,
   "outputs": [],
   "source": [
    "CROP_DIM = (0, 40, 640, 360)\n",
    "NEW_SIZE = (200, 100)\n",
    "\n",
    "def op_flow_raw(img0, img1):\n",
    "    gray0 = cv2.cvtColor(img0, cv2.COLOR_BGR2GRAY)\n",
    "    gray1 = cv2.cvtColor(img1, cv2.COLOR_BGR2GRAY)\n",
    "    flow = cv2.calcOpticalFlowFarneback(\n",
    "        gray0, gray1, None, 0.5, 3, 5, 3, 5, 1.1, 0\n",
    "    )\n",
    "    return flow\n",
    "\n",
    "def op_flow_bgr(flow, shape):\n",
    "    mag, ang = cv2.cartToPolar(flow[..., 0], flow[..., 1])\n",
    "    mask = np.zeros(shape, dtype=np.uint8)\n",
    "    mask[..., 0] = ang * 180 / np.pi / 2    # direction\n",
    "    mask[..., 1] = 255                      # full saturation\n",
    "    mask[..., 2] = cv2.normalize(           # intensity\n",
    "        mag, None, 0, 255, cv2.NORM_MINMAX\n",
    "    )\n",
    "    bgr = cv2.cvtColor(mask, cv2.COLOR_HSV2BGR)\n",
    "    return bgr\n",
    "\n",
    "def format_frame(frame):\n",
    "    img = Image.fromarray(frame).crop(CROP_DIM).resize(NEW_SIZE)\n",
    "    return np.array(img)\n",
    "\n",
    "def split_video(video):\n",
    "    frames, op_flows, op_bgrs = [], [], []\n",
    "    cap = cv2.VideoCapture(video)\n",
    "    pbar = tqdm(total=cap.get(cv2.CAP_PROP_FRAME_COUNT)-1, position=0, leave=2)\n",
    "    ret, frame1 = cap.read()\n",
    "    frame1 = format_frame(frame1)\n",
    "    while ret:\n",
    "        ret, frame2 = cap.read()\n",
    "        if ret:\n",
    "            frame2 = format_frame(frame2)\n",
    "            frames.append(frame2)\n",
    "            op_flow = op_flow_raw(frame1, frame2)\n",
    "            op_flows.append(op_flow)\n",
    "            op_bgr = op_flow_bgr(op_flow, frame2.shape)\n",
    "            op_bgrs.append(op_bgr)\n",
    "            frame1 = frame2\n",
    "            pbar.update()\n",
    "        else:\n",
    "            print('Finished saving '+video)\n",
    "    return np.array(frames), np.array(op_flows), np.array(op_bgrs)"
   ],
   "metadata": {
    "collapsed": false,
    "pycharm": {
     "name": "#%% Data Pipeline\n"
    }
   }
  },
  {
   "cell_type": "code",
   "execution_count": null,
   "outputs": [],
   "source": [
    "lbl = np.loadtxt('./data/train.txt')\n",
    "with h5py.File('./data/train.h5', 'w') as f:\n",
    "    frm, opf, opv = split_video('./data/train.mp4')\n",
    "    f.create_dataset('FRM', frm.shape, data=frm)\n",
    "    f.create_dataset('OPF', opf.shape, data=opf)\n",
    "    f.create_dataset('OPV', opv.shape, data=opv)\n",
    "    f.create_dataset('LBL', lbl.shape, data=lbl)\n",
    "f.close()"
   ],
   "metadata": {
    "collapsed": false,
    "pycharm": {
     "name": "#%% Save frames and optical flow\n"
    }
   }
  },
  {
   "cell_type": "code",
   "execution_count": null,
   "outputs": [],
   "source": [
    "with h5py.File('./data/train.h5', 'r') as f:\n",
    "    frm = f['FRM']\n",
    "    opv = f['OPV']\n",
    "    for a, b in zip(frm, opv):\n",
    "        cv2.imshow('FRM', a)\n",
    "        cv2.imshow('OPV', b)\n",
    "        if cv2.waitKey(1) & 0xFF == ord('q'):\n",
    "            break\n",
    "    cv2.destroyAllWindows()\n",
    "f.close()"
   ],
   "metadata": {
    "collapsed": false,
    "pycharm": {
     "name": "#%% View\n"
    }
   }
  },
  {
   "cell_type": "code",
   "execution_count": null,
   "outputs": [],
   "source": [
    "class SpeedDataset(Dataset):\n",
    "    def __init__(self, filename, transform=None):\n",
    "        super(SpeedDataset, self).__init__()\n",
    "\n",
    "        self.file = h5py.File(filename)\n",
    "        self.frm = self.file['FRM']\n",
    "        self.opf = self.file['OPF']\n",
    "        self.opv = self.file['OPV']\n",
    "        self.lbl = self.file['LBL']\n",
    "        self.transform = transform\n",
    "\n",
    "    def __len__(self):\n",
    "        return len(self.frm)\n",
    "\n",
    "    def __getitem__(self, idx):\n",
    "        if torch.is_tensor(idx):\n",
    "            idx = idx.tolist()\n",
    "\n",
    "        # from h5py\n",
    "        X_frm = self.frm[idx]\n",
    "        X_opf = self.opf[idx]\n",
    "        X_opv = self.opv[idx]\n",
    "        y = self.lbl[idx+1]\n",
    "\n",
    "        # apply transform\n",
    "        if self.transform is not None:\n",
    "            X_frm = self.transform(X_frm).permute(1, 2, 0)\n",
    "            X_opf = self.transform(X_opf).permute(1, 2, 0)\n",
    "            X_opv = self.transform(X_opv).permute(1, 2, 0)\n",
    "\n",
    "        return X_frm, X_opf, X_opv, y\n",
    "\n",
    "dataset = SpeedDataset(\n",
    "    './data/train.h5',\n",
    "    transforms.Compose([\n",
    "        transforms.ToTensor()\n",
    "    ])\n",
    ")\n",
    "\n",
    "dataloader = DataLoader(dataset, 100)"
   ],
   "metadata": {
    "collapsed": false,
    "pycharm": {
     "name": "#%% Define torch dataset\n"
    }
   }
  },
  {
   "cell_type": "code",
   "execution_count": null,
   "outputs": [],
   "source": [
    "class Conv2DReLU(nn.Module):\n",
    "\n",
    "    def __init__(\n",
    "        self, in_channels, out_channels, kernel_size, stride, padding=0\n",
    "    ):\n",
    "        super(Conv2DReLU, self).__init__()\n",
    "\n",
    "        self.conv = Conv2DReLU(\n",
    "            in_channels, out_channels,\n",
    "            kernel_size=kernel_size, stride=stride, padding=padding\n",
    "        )\n",
    "\n",
    "    def forward(self, x):\n",
    "        x = F.relu(self.conv(x))\n",
    "        return x\n",
    "\n",
    "class Stem(nn.Module):\n",
    "\n",
    "    def __init__(self, in_channels):\n",
    "        super(Stem, self).__init__()\n",
    "\n",
    "        self.base = nn.Sequential(\n",
    "            Conv2DReLU(in_channels, 32, kernel_size=3, stride=2),\n",
    "            Conv2DReLU(32, 32, kernel_size=3, stride=1),\n",
    "            Conv2DReLU(32, 64, kernel_size=3, stride=1, padding=1)\n",
    "        )\n",
    "        self.conv0 = Conv2DReLU(64, 96, kernel_size=3, stride=2)\n",
    "        self.pool0 = nn.MaxPool2d(kernel_size=3, stride=2)\n",
    "        self.branch0 = nn.Sequential(\n",
    "            Conv2DReLU(160, 64, kernel_size=1, stride=1),\n",
    "            Conv2DReLU(64, 96, kernel_size=3, stride=1)\n",
    "        )\n",
    "        self.branch1 = nn.Sequential(\n",
    "            Conv2DReLU(160, 64, kernel_size=1, stride=1),\n",
    "            Conv2DReLU(64, 64, kernel_size=(7, 1), stride=1, padding=(3, 0)),\n",
    "            Conv2DReLU(64, 64, kernel_size=(1, 7), stride=1, padding=(0, 3)),\n",
    "            Conv2DReLU(64, 96, kernel_size=3, stride=1)\n",
    "        )\n",
    "        self.conv1 = Conv2DReLU(192, 192, kernel_size=3, stride=1)\n",
    "        self.pool1 = nn.MaxPool2d(kernel_size=3, stride=2)\n",
    "\n",
    "    def forward(self, x):\n",
    "        x = self.base(x)\n",
    "        x0 = self.conv0(x)\n",
    "        x1 = self.pool0(x)\n",
    "        x = torch.cat((x0, x1), 1)\n",
    "        x0 = self.branch0(x)\n",
    "        x1 = self.branch1(x)\n",
    "        x = torch.cat((x0, x1), 1)\n",
    "        x0 = self.conv1(x)\n",
    "        x1 = self.pool1(x)\n",
    "        x = torch.cat((x0, x1), 1)\n",
    "        return x\n",
    "\n",
    "class InceptionA:\n",
    "\n",
    "    def __init__(self):\n",
    "        super(InceptionA, self).__init__()\n",
    "\n",
    "        self.branch0 = nn.Sequential(\n",
    "            nn.AvgPool2d(kernel_size=3),\n",
    "            Conv2DReLU(384, 96, kernel_size=1, stride=1)\n",
    "        )\n",
    "        self.branch1 = nn.Sequential(\n",
    "            Conv2DReLU(384, 96, kernel_size=1, stride=1)\n",
    "        )\n",
    "        self.branch2 = nn.Sequential(\n",
    "            Conv2DReLU(384, 64, kernel_size=1, stride=1),\n",
    "            Conv2DReLU(64, 96, kernel_size=3, stride=1)\n",
    "        )\n",
    "        self.branch3 = nn.Sequential(\n",
    "            Conv2DReLU(384, 64, kernel_size=1, stride=1),\n",
    "            Conv2DReLU(64, 96, kernel_size=3, stride=1),\n",
    "            Conv2DReLU(96, 96, kernel_size=3, stride=1)\n",
    "        )\n",
    "\n",
    "    def forward(self, x):\n",
    "        x0 = self.branch0(x)\n",
    "        x1 = self.branch1(x)\n",
    "        x2 = self.branch2(x)\n",
    "        x3 = self.branch3(x)\n",
    "        x = torch.cat((x0, x1, x2, x3), 1)\n",
    "        return x\n",
    "\n",
    "class InceptionB:\n",
    "\n",
    "    def __init__(self):\n",
    "        super(InceptionB, self).__init__()\n",
    "\n",
    "        self.branch0 = nn.Sequential(\n",
    "            nn.AvgPool2d(kernel_size=1)\n",
    "        )"
   ],
   "metadata": {
    "collapsed": false,
    "pycharm": {
     "name": "#%% Define model\n"
    }
   }
  }
 ],
 "metadata": {
  "kernelspec": {
   "display_name": "Python 3",
   "language": "python",
   "name": "python3"
  },
  "language_info": {
   "codemirror_mode": {
    "name": "ipython",
    "version": 2
   },
   "file_extension": ".py",
   "mimetype": "text/x-python",
   "name": "python",
   "nbconvert_exporter": "python",
   "pygments_lexer": "ipython2",
   "version": "2.7.6"
  }
 },
 "nbformat": 4,
 "nbformat_minor": 0
}