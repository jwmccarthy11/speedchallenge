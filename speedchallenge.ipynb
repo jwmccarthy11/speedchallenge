{
 "cells": [
  {
   "cell_type": "code",
   "execution_count": 9,
   "outputs": [
    {
     "name": "stderr",
     "output_type": "stream",
     "text": [
      "100%|█████████▉| 10758/10768 [00:50<00:00, 258.18it/s]"
     ]
    }
   ],
   "source": [
    "import cv2\n",
    "import h5py\n",
    "import numpy as np\n",
    "from tqdm import tqdm\n",
    "\n",
    "# data dimensions\n",
    "TRAIN_COUNT  = 20400\n",
    "TEST_COUNT   = 10768\n",
    "FRAME_HEIGHT = 480\n",
    "FRAME_WIDTH  = 640\n",
    "CHANNELS     = 3\n",
    "FRAME_SHAPE  = (FRAME_HEIGHT, FRAME_WIDTH, CHANNELS)\n",
    "\n",
    "def save_frames(\n",
    "    filename, vid_path, data_len, lab_path=None\n",
    "):\n",
    "    pbar = tqdm(total=data_len, position=0, leave=True)\n",
    "    with h5py.File(filename, 'w') as hf:\n",
    "        lab = np.loadtxt(lab_path) if lab_path is not None else None\n",
    "        cap = cv2.VideoCapture(vid_path)\n",
    "        while cap.isOpened():\n",
    "            if (frame_id := int(cap.get(1))) >= data_len:\n",
    "                break\n",
    "            ret, frame = cap.read()\n",
    "\n",
    "            # save frames\n",
    "            hf.create_dataset(\n",
    "                name='X'+str(frame_id),\n",
    "                data=frame,\n",
    "                shape=FRAME_SHAPE\n",
    "            )\n",
    "\n",
    "            # save labels if available\n",
    "            if lab is not None:\n",
    "                hf.create_dataset(\n",
    "                    name='y'+str(frame_id),\n",
    "                    data=lab[frame_id]\n",
    "                )\n",
    "\n",
    "            pbar.update()\n",
    "        cap.release()\n",
    "    hf.close()\n",
    "\n",
    "# save train data\n",
    "save_frames(\n",
    "    './data/train.h5',\n",
    "    './data/train.mp4',\n",
    "    TRAIN_COUNT,\n",
    "    './data/train.txt'\n",
    ")\n",
    "\n",
    "# save test data\n",
    "save_frames(\n",
    "    './data/test.h5',\n",
    "    './data/test.mp4',\n",
    "    TEST_COUNT\n",
    ")"
   ],
   "metadata": {
    "collapsed": false,
    "pycharm": {
     "name": "#%% Save frames of video\n"
    }
   }
  },
  {
   "cell_type": "code",
   "execution_count": 9,
   "outputs": [
    {
     "ename": "KeyboardInterrupt",
     "evalue": "",
     "output_type": "error",
     "traceback": [
      "\u001B[1;31m---------------------------------------------------------------------------\u001B[0m",
      "\u001B[1;31mKeyboardInterrupt\u001B[0m                         Traceback (most recent call last)",
      "\u001B[1;32m<ipython-input-9-f35afd97c158>\u001B[0m in \u001B[0;36m<module>\u001B[1;34m\u001B[0m\n\u001B[0;32m     47\u001B[0m     \u001B[1;32mfor\u001B[0m \u001B[0mimg\u001B[0m \u001B[1;32min\u001B[0m \u001B[0mimages\u001B[0m\u001B[1;33m:\u001B[0m\u001B[1;33m\u001B[0m\u001B[1;33m\u001B[0m\u001B[0m\n\u001B[0;32m     48\u001B[0m         \u001B[0mcv2\u001B[0m\u001B[1;33m.\u001B[0m\u001B[0mimshow\u001B[0m\u001B[1;33m(\u001B[0m\u001B[1;34m'train'\u001B[0m\u001B[1;33m,\u001B[0m \u001B[0mimg\u001B[0m\u001B[1;33m.\u001B[0m\u001B[0mnumpy\u001B[0m\u001B[1;33m(\u001B[0m\u001B[1;33m)\u001B[0m\u001B[1;33m)\u001B[0m\u001B[1;33m\u001B[0m\u001B[1;33m\u001B[0m\u001B[0m\n\u001B[1;32m---> 49\u001B[1;33m         \u001B[1;32mif\u001B[0m \u001B[0mcv2\u001B[0m\u001B[1;33m.\u001B[0m\u001B[0mwaitKey\u001B[0m\u001B[1;33m(\u001B[0m\u001B[1;36m1\u001B[0m\u001B[1;33m)\u001B[0m \u001B[1;33m&\u001B[0m \u001B[1;36m0xFF\u001B[0m \u001B[1;33m==\u001B[0m \u001B[0mord\u001B[0m\u001B[1;33m(\u001B[0m\u001B[1;34m'q'\u001B[0m\u001B[1;33m)\u001B[0m\u001B[1;33m:\u001B[0m\u001B[1;33m\u001B[0m\u001B[1;33m\u001B[0m\u001B[0m\n\u001B[0m\u001B[0;32m     50\u001B[0m             \u001B[1;32mbreak\u001B[0m\u001B[1;33m\u001B[0m\u001B[1;33m\u001B[0m\u001B[0m\n\u001B[0;32m     51\u001B[0m     \u001B[0mcv2\u001B[0m\u001B[1;33m.\u001B[0m\u001B[0mdestroyAllWindows\u001B[0m\u001B[1;33m(\u001B[0m\u001B[1;33m)\u001B[0m\u001B[1;33m\u001B[0m\u001B[1;33m\u001B[0m\u001B[0m\n",
      "\u001B[1;31mKeyboardInterrupt\u001B[0m: "
     ]
    }
   ],
   "source": [
    "import cv2\n",
    "import h5py\n",
    "import torch\n",
    "import numpy as np\n",
    "from torch.utils.data import Dataset, DataLoader\n",
    "from torchvision import transforms\n",
    "\n",
    "class SpeedDataset(Dataset):\n",
    "    def __init__(self, filename, transform=None):\n",
    "        super(SpeedDataset, self).__init__()\n",
    "\n",
    "        self.file = h5py.File(filename, 'r')\n",
    "        self.transform = transform\n",
    "\n",
    "    def __len__(self):\n",
    "        return len(self.file.keys())\n",
    "\n",
    "    def __getitem__(self, idx):\n",
    "        if torch.is_tensor(idx):\n",
    "            idx = idx.tolist()\n",
    "\n",
    "        # retrieve from h5py\n",
    "        X = np.array(self.file['X'+str(idx)])\n",
    "        y = np.array(self.file['y'+str(idx)])\n",
    "\n",
    "        # apply transform\n",
    "        if self.transform is not None:\n",
    "            X = self.transform(X).permute(1, 2, 0)\n",
    "\n",
    "        return X, y\n",
    "\n",
    "dataset = SpeedDataset(\n",
    "    './data/train.h5',\n",
    "    transforms.Compose([\n",
    "        transforms.ToTensor()\n",
    "    ])\n",
    ")\n",
    "\n",
    "dataloader = DataLoader(\n",
    "    dataset,\n",
    "    batch_size=100,\n",
    "    shuffle=False,\n",
    "    num_workers=0\n",
    ")\n",
    "\n",
    "for images, labels in dataloader:\n",
    "    for img in images:\n",
    "        cv2.imshow('train', img.numpy())\n",
    "        if cv2.waitKey(1) & 0xFF == ord('q'):\n",
    "            break\n",
    "    cv2.destroyAllWindows()"
   ],
   "metadata": {
    "collapsed": false,
    "pycharm": {
     "name": "#%% Define torch dataset\n"
    }
   }
  }
 ],
 "metadata": {
  "kernelspec": {
   "display_name": "Python 3",
   "language": "python",
   "name": "python3"
  },
  "language_info": {
   "codemirror_mode": {
    "name": "ipython",
    "version": 2
   },
   "file_extension": ".py",
   "mimetype": "text/x-python",
   "name": "python",
   "nbconvert_exporter": "python",
   "pygments_lexer": "ipython2",
   "version": "2.7.6"
  }
 },
 "nbformat": 4,
 "nbformat_minor": 0
}