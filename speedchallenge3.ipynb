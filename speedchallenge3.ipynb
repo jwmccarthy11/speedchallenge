{
 "cells": [
  {
   "cell_type": "code",
   "execution_count": null,
   "metadata": {
    "collapsed": true
   },
   "outputs": [],
   "source": [
    "import h5py\n",
    "import numpy as np\n",
    "import torch\n",
    "import torch.nn as nn\n",
    "import torch.nn.functional as F\n",
    "import torch.optim as optim\n",
    "from torchvision import transforms\n",
    "from torch.utils.data import Dataset, DataLoader\n",
    "from sklearn.model_selection import KFold"
   ]
  },
  {
   "cell_type": "code",
   "execution_count": null,
   "outputs": [],
   "source": [
    "TRAIN_COUNT = 20399\n",
    "\n",
    "class OpFlowDataset(Dataset):\n",
    "\n",
    "    def __init__(self, data_path, list_ids):\n",
    "        super(OpFlowDataset, self).__init__()\n",
    "        self.file = h5py.File(data_path, 'r')\n",
    "        self.list_ids = list_ids\n",
    "        self.transform = transforms.ToTensor()\n",
    "\n",
    "    def __len__(self):\n",
    "        return len(self.list_ids)\n",
    "\n",
    "    def __getitem__(self, index):\n",
    "        if torch.is_tensor(index):\n",
    "            index = index.tolist()\n",
    "        i = self.list_ids[index]\n",
    "        X = self.file['OPF'][i]\n",
    "        y = self.file['LBL'][i]\n",
    "        return self.transform(X), y"
   ],
   "metadata": {
    "collapsed": false,
    "pycharm": {
     "name": "#%%\n"
    }
   }
  },
  {
   "cell_type": "code",
   "execution_count": null,
   "outputs": [],
   "source": [
    "class Conv2dReLU(nn.Module):\n",
    "\n",
    "    def __init__(\n",
    "        self, in_channels, out_channels, kernel_size, stride=1, padding=0\n",
    "    ):\n",
    "        super(Conv2dReLU, self).__init__()\n",
    "        self.conv = nn.Conv2d(\n",
    "            in_channels,\n",
    "            out_channels,\n",
    "            kernel_size=kernel_size,\n",
    "            stride=stride,\n",
    "            padding=padding\n",
    "        )\n",
    "\n",
    "    def forward(self, x):\n",
    "        return F.relu(self.conv(x))\n",
    "\n",
    "class SpeedNet(nn.Module):\n",
    "\n",
    "    def __init__(self):\n",
    "        super(SpeedNet, self).__init__()\n",
    "        self.layers = nn.Sequential(\n",
    "            Conv2dReLU(2, 8, 3),\n",
    "            nn.MaxPool2d((1, 2)),\n",
    "            Conv2dReLU(8, 16, 3),\n",
    "            nn.MaxPool2d((1, 2)),\n",
    "            Conv2dReLU(16, 32, 3),\n",
    "            nn.MaxPool2d((2, 2)),\n",
    "            Conv2dReLU(32, 64, 3),\n",
    "            nn.MaxPool2d((2, 2)),\n",
    "            Conv2dReLU(64, 128, 3),\n",
    "            nn.MaxPool2d((2, 2)),\n",
    "            Conv2dReLU(128, 256, 3),\n",
    "            Conv2dReLU(256, 512, 3, padding=1),\n",
    "            nn.MaxPool2d((2, 2)),\n",
    "            nn.AvgPool2d((7, 2)),\n",
    "            nn.Dropout(.2),\n",
    "            nn.Flatten(),\n",
    "            nn.Linear(512, 500),\n",
    "            nn.ReLU(),\n",
    "            nn.Linear(500, 250),\n",
    "            nn.ReLU(),\n",
    "            nn.Linear(250, 1)\n",
    "        )\n",
    "\n",
    "    def forward(self, x):\n",
    "        return self.layers(x)"
   ],
   "metadata": {
    "collapsed": false,
    "pycharm": {
     "name": "#%%\n"
    }
   }
  },
  {
   "cell_type": "code",
   "execution_count": null,
   "outputs": [],
   "source": [
    "use_cuda = torch.cuda.is_available()\n",
    "device = torch.device('cuda:0' if use_cuda else 'cpu')\n",
    "\n",
    "kf = KFold(n_splits=5)\n",
    "\n",
    "params = {\n",
    "    'batch_size': 32,\n",
    "    'shuffle': True\n",
    "}\n",
    "max_epochs = 100\n",
    "patience = 3\n",
    "criterion = nn.MSELoss()\n",
    "\n",
    "for train_index, val_index in kf.split(np.arange(TRAIN_COUNT)):\n",
    "    # train fold generator\n",
    "    train_set = OpFlowDataset('./data/train.h5', train_index)\n",
    "    train_loader = DataLoader(train_set, **params)\n",
    "\n",
    "    # validation fold generator\n",
    "    valid_set = OpFlowDataset('./data/train.h5', val_index)\n",
    "    valid_loader = DataLoader(valid_set, **params)\n",
    "\n",
    "    net = SpeedNet().to(device)\n",
    "    optimizer = optim.Adam(net.parameters(), lr=0.001, eps=1e-7)\n",
    "\n",
    "    best_val_loss = np.inf\n",
    "    val_count = 0\n",
    "\n",
    "    for epoch in range(max_epochs):\n",
    "        running_loss = 0.\n",
    "        for i, data in enumerate(train_loader):\n",
    "            X, y = data[0].to(device), data[1].to(device)\n",
    "            optimizer.zero_grad()\n",
    "            output = net(X).squeeze()\n",
    "            loss = criterion(output, y)\n",
    "            loss.backward()\n",
    "            optimizer.step()\n",
    "            running_loss += loss.item()\n",
    "            if i % 100 == 99:\n",
    "                print('[%d, %5d] loss: %.3f' %\n",
    "                  (epoch + 1, i + 1, running_loss / 100))\n",
    "                running_loss = 0.\n",
    "\n",
    "        net.eval()\n",
    "        with torch.no_grad():\n",
    "            running_loss = 0.\n",
    "            for i, data in enumerate(valid_loader):\n",
    "                X, y = data[0].to(device), data[1].to(device)\n",
    "                output = net(X).squeeze()\n",
    "                loss = criterion(output, y)\n",
    "                running_loss += loss.item()\n",
    "            val_loss = running_loss / (i+1)\n",
    "            print('Valid. loss: ' + str(val_loss))\n",
    "            if val_loss < best_val_loss:\n",
    "                best_val_loss = val_loss\n",
    "                val_count = 0\n",
    "            else:\n",
    "                val_count += 1\n",
    "                if val_count > patience:\n",
    "                    break"
   ],
   "metadata": {
    "collapsed": false,
    "pycharm": {
     "name": "#%%\n"
    }
   }
  },
  {
   "cell_type": "code",
   "execution_count": null,
   "outputs": [],
   "source": [],
   "metadata": {
    "collapsed": false,
    "pycharm": {
     "name": "#%%\n"
    }
   }
  }
 ],
 "metadata": {
  "kernelspec": {
   "display_name": "Python 3",
   "language": "python",
   "name": "python3"
  },
  "language_info": {
   "codemirror_mode": {
    "name": "ipython",
    "version": 2
   },
   "file_extension": ".py",
   "mimetype": "text/x-python",
   "name": "python",
   "nbconvert_exporter": "python",
   "pygments_lexer": "ipython2",
   "version": "2.7.6"
  }
 },
 "nbformat": 4,
 "nbformat_minor": 0
}