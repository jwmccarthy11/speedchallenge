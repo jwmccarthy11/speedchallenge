{
 "cells": [
  {
   "cell_type": "code",
   "execution_count": null,
   "metadata": {},
   "outputs": [],
   "source": [
    "import h5py\n",
    "import keras\n",
    "import numpy as np\n",
    "import cv2 as cv\n",
    "from PIL import Image, ImageEnhance\n",
    "from tqdm import tqdm\n",
    "from keras.models import Sequential\n",
    "from keras.layers import *"
   ]
  },
  {
   "cell_type": "code",
   "execution_count": null,
   "outputs": [],
   "source": [
    "from tensorflow.python.client import device_lib\n",
    "print(device_lib.list_local_devices())"
   ],
   "metadata": {
    "collapsed": false,
    "pycharm": {
     "name": "#%% TF GPU Usage Debugging\n"
    }
   }
  },
  {
   "cell_type": "code",
   "execution_count": null,
   "metadata": {
    "pycharm": {
     "name": "#%% Data\n"
    }
   },
   "outputs": [],
   "source": [
    "TRAIN_PATH = r'.\\data\\train.mp4'\n",
    "LABEL_PATH = r'.\\data\\train.txt'\n",
    "H5PY_PATH  = r'.\\data\\train.h5'"
   ]
  },
  {
   "cell_type": "code",
   "execution_count": null,
   "metadata": {
    "pycharm": {
     "name": "#%% Frame preprocessing\n"
    }
   },
   "outputs": [],
   "source": [
    "def flow_from_frames(img0, img1):\n",
    "    \"\"\"\n",
    "    Computes dense optical flow between frames using Farneback method\n",
    "    \"\"\"\n",
    "    gray0 = cv.cvtColor(img0, cv.COLOR_BGR2GRAY)\n",
    "    gray1 = cv.cvtColor(img1, cv.COLOR_BGR2GRAY)\n",
    "    flow = cv.calcOpticalFlowFarneback(\n",
    "        gray0, gray1, None, 0.5, 1, 15, 2, 5, 1.3, 0\n",
    "    )\n",
    "    return flow\n",
    "\n",
    "def int_flow_from_frames(img0, img1):\n",
    "    \"\"\"\n",
    "    Gives optical flow\n",
    "    \"\"\"\n",
    "\n",
    "def bgr_from_flow(flow):\n",
    "    \"\"\"\n",
    "    Generates BGR representation of optical flow given flow\n",
    "    \"\"\"\n",
    "    mag, ang = cv.cartToPolar(flow[...,0], flow[...,1])\n",
    "    hsv = np.zeros((mag.shape[0], mag.shape[1], 3)).astype(np.uint8)\n",
    "    hsv[...,0] = ang * 180 / np.pi / 2\n",
    "    hsv[...,1] = 255\n",
    "    hsv[...,2] = cv.normalize(mag, None, 0, 255, cv.NORM_MINMAX)\n",
    "    bgr = cv.cvtColor(hsv, cv.COLOR_HSV2BGR)\n",
    "    return bgr\n",
    "\n",
    "def bgr_from_frames(img0, img1):\n",
    "    \"\"\"\n",
    "    Generates BGR representation of optical flow given two frames\n",
    "    \"\"\"\n",
    "    return bgr_from_flow(flow_from_frames(img0, img1))\n",
    "\n",
    "def crop_frame(img, crop_dim, size_dim=None):\n",
    "    \"\"\"\n",
    "    Crops image to given dimensions\n",
    "    dim = (left, top, right, bottom)\n",
    "    \"\"\"\n",
    "    img = Image.fromarray(img)\n",
    "    img = img.crop(crop_dim)\n",
    "    return np.array(img)\n",
    "\n",
    "def resize_frame(img, dim):\n",
    "    \"\"\"\n",
    "    Resize image to given dimensions\n",
    "    dim = (width, height)\n",
    "    \"\"\"\n",
    "    img = Image.fromarray(img)\n",
    "    img = img.resize(dim)\n",
    "    return np.array(img)\n",
    "\n",
    "def crop_resize(img, crop_dim, size_dim):\n",
    "    \"\"\"\n",
    "    Crop and resize frame\n",
    "    \"\"\"\n",
    "    img = crop_frame(img, crop_dim)\n",
    "    img = resize_frame(img, size_dim)\n",
    "    return img\n",
    "\n",
    "def augment_frame(img, low=0.5, high=1.5):\n",
    "    \"\"\"\n",
    "    Augments brightness and color of image to avoid overfitting\n",
    "    \"\"\"\n",
    "    factor = np.random.uniform(low, high)\n",
    "    img = Image.fromarray(img)\n",
    "    img = ImageEnhance.Brightness(img).enhance(factor)\n",
    "    img = ImageEnhance.Color(img).enhance(factor)\n",
    "    return np.array(img)"
   ]
  },
  {
   "cell_type": "code",
   "execution_count": null,
   "metadata": {
    "pycharm": {
     "name": "#%% Save train data frames + optical flow\n"
    }
   },
   "outputs": [],
   "source": [
    "# data dimensions\n",
    "TRAIN_COUNT = 20400\n",
    "CROP_DIM = (0, 40, 640, 360)\n",
    "RESIZE_DIM = (300, 150)\n",
    "FRAME_CHANNELS = 3\n",
    "FLOW_CHANNELS = 2\n",
    "\n",
    "# raw train data\n",
    "lbl = np.loadtxt(LABEL_PATH)\n",
    "cap = cv.VideoCapture(TRAIN_PATH)\n",
    "\n",
    "# train datasets\n",
    "file = h5py.File(H5PY_PATH, 'w')\n",
    "frames = file.create_dataset(\n",
    "    'FRM',\n",
    "    shape=(TRAIN_COUNT, RESIZE_DIM[1], RESIZE_DIM[0], FRAME_CHANNELS),\n",
    "    maxshape=(None, RESIZE_DIM[1], RESIZE_DIM[0], FRAME_CHANNELS),\n",
    "    chunks=(1, RESIZE_DIM[1], RESIZE_DIM[0], FRAME_CHANNELS),\n",
    "    dtype=np.uint8\n",
    ")\n",
    "op_flows = file.create_dataset(\n",
    "    'OPF',\n",
    "    shape=(TRAIN_COUNT-1, RESIZE_DIM[1], RESIZE_DIM[0], FLOW_CHANNELS),\n",
    "    maxshape=(None, RESIZE_DIM[1], RESIZE_DIM[0], FLOW_CHANNELS),\n",
    "    chunks=(1, RESIZE_DIM[1], RESIZE_DIM[0], FLOW_CHANNELS),\n",
    "    dtype='f4'\n",
    ")\n",
    "speeds = file.create_dataset(\n",
    "    'LBL', data=lbl[1:], dtype='f4'\n",
    ")\n",
    "\n",
    "# initial frame\n",
    "ret, img0 = cap.read()\n",
    "img0 = crop_resize(img0, CROP_DIM, RESIZE_DIM)\n",
    "\n",
    "pbar = tqdm(total=TRAIN_COUNT-1, position=0, leave=2)\n",
    "while True:\n",
    "    frame_id = int(cap.get(1))\n",
    "    ret, img1 = cap.read()\n",
    "    if cv.waitKey(1) & 0xFF == ord('q') or not ret:\n",
    "        break\n",
    "    img1 = crop_resize(img1, CROP_DIM, RESIZE_DIM)\n",
    "    flow = flow_from_frames(img0, img1)\n",
    "    # cv.imshow('', img1)\n",
    "    file['FRM'][frame_id] = augment_frame(img1)\n",
    "    file['OPF'][frame_id-1] = flow\n",
    "    img0 = img1\n",
    "    pbar.update()\n",
    "cv.destroyAllWindows()\n",
    "\n",
    "file.close()"
   ]
  },
  {
   "cell_type": "code",
   "execution_count": null,
   "metadata": {
    "pycharm": {
     "name": "#%% Data generator\n"
    }
   },
   "outputs": [],
   "source": [
    "class DataGenerator(keras.utils.Sequence):\n",
    "\n",
    "    def __init__(\n",
    "        self, data_path, n_channels=3, batch_size=16, shuffle=True\n",
    "    ):\n",
    "        self.batch_size = batch_size\n",
    "        self.data_path = data_path\n",
    "        self.n_channels = n_channels\n",
    "        self.shuffle = shuffle\n",
    "        self.file = h5py.File(data_path, 'r')\n",
    "        self.indexes = np.arange(len(self.file['OPF']))\n",
    "\n",
    "    def __len__(self):\n",
    "        return int(np.floor(len(self.indexes) / self.batch_size))\n",
    "\n",
    "    def __getitem__(self, index):\n",
    "        X, y = self.__data_generation(\n",
    "            list(self.indexes[index*self.batch_size:(index+1)*self.batch_size])\n",
    "        )\n",
    "        return X, y\n",
    "\n",
    "    def __del__(self):\n",
    "        self.file.close()\n",
    "\n",
    "    def on_epoch_end(self):\n",
    "        if self.shuffle:\n",
    "            np.random.shuffle(self.indexes)\n",
    "\n",
    "    def __data_generation(self, index):\n",
    "        index = list(index)\n",
    "        index.sort()\n",
    "        X = np.array(self.file['OPF'][index])\n",
    "        y = np.array(self.file['LBL'][index])\n",
    "        return X, y"
   ]
  },
  {
   "cell_type": "code",
   "execution_count": null,
   "outputs": [],
   "source": [
    "class SpeedModel(keras.Model):\n",
    "\n",
    "    def __init__(self, input_dim=(150, 300, 2), kernel_size=3):\n",
    "        super(SpeedModel, self).__init__()\n",
    "\n",
    "        self.model = Sequential([\n",
    "            Conv2D(8, (kernel_size, kernel_size), activation='relu', data_format='channels_last'),\n",
    "            MaxPooling2D(pool_size=(1, 2)),\n",
    "            Conv2D(16, (kernel_size, kernel_size), activation='relu', data_format='channels_last'),\n",
    "            MaxPooling2D(pool_size=(1, 2)),\n",
    "            Conv2D(32, (kernel_size, kernel_size), activation='relu', data_format='channels_last'),\n",
    "            Conv2D(64, (kernel_size, kernel_size), activation='relu', data_format='channels_last'),\n",
    "            MaxPooling2D(),\n",
    "            Conv2D(256, (kernel_size, kernel_size), activation='relu', data_format='channels_last'),\n",
    "            MaxPooling2D(),\n",
    "            Conv2D(512, (kernel_size, kernel_size), activation='relu', data_format='channels_last', padding='same'),\n",
    "            MaxPooling2D(),\n",
    "            GlobalAveragePooling2D(),\n",
    "            Dropout(0.2),\n",
    "            Dense(500, activation='relu'),\n",
    "            Dense(250, activation='relu'),\n",
    "            Dense(1, activation='relu')\n",
    "        ])\n",
    "\n",
    "    def call(self, inputs):\n",
    "        x = self.model(inputs)\n",
    "        return x\n",
    "\n",
    "model = SpeedModel()\n",
    "model.compile(loss=\"mse\", optimizer=\"adam\")"
   ],
   "metadata": {
    "collapsed": false,
    "pycharm": {
     "name": "#%% Define model\n"
    }
   }
  },
  {
   "cell_type": "code",
   "execution_count": null,
   "outputs": [],
   "source": [
    "generator = DataGenerator(H5PY_PATH)\n",
    "model.fit(generator, epochs=10)\n",
    "\n",
    "\n"
   ],
   "metadata": {
    "collapsed": false,
    "pycharm": {
     "name": "#%%\n"
    }
   }
  }
 ],
 "metadata": {
  "kernelspec": {
   "display_name": "Python 3",
   "language": "python",
   "name": "python3"
  },
  "language_info": {
   "codemirror_mode": {
    "name": "ipython",
    "version": 3
   },
   "file_extension": ".py",
   "mimetype": "text/x-python",
   "name": "python",
   "nbconvert_exporter": "python",
   "pygments_lexer": "ipython3",
   "version": "3.8.5"
  }
 },
 "nbformat": 4,
 "nbformat_minor": 1
}