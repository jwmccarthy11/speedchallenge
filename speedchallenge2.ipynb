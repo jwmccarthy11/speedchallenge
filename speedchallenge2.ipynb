{
 "cells": [
  {
   "cell_type": "code",
   "execution_count": null,
   "metadata": {},
   "outputs": [],
   "source": [
    "import h5py\n",
    "import keras\n",
    "import numpy as np\n",
    "from keras.models import Sequential\n",
    "from keras.layers import *\n",
    "from sklearn.model_selection import KFold"
   ]
  },
  {
   "cell_type": "code",
   "execution_count": null,
   "outputs": [],
   "source": [
    "from tensorflow.python.client import device_lib\n",
    "print(device_lib.list_local_devices())"
   ],
   "metadata": {
    "collapsed": false,
    "pycharm": {
     "name": "#%% TF GPU Usage Debugging\n"
    }
   }
  },
  {
   "cell_type": "code",
   "execution_count": null,
   "outputs": [],
   "source": [
    "TRAIN_PATH = r'.\\data\\train.mp4'\n",
    "LABEL_PATH = r'.\\data\\train.txt'\n",
    "H5PY_PATH  = r'.\\data\\train.h5'"
   ],
   "metadata": {
    "collapsed": false,
    "pycharm": {
     "name": "#%% Data\n"
    }
   }
  },
  {
   "cell_type": "code",
   "execution_count": null,
   "metadata": {
    "pycharm": {
     "name": "#%% Data generator\n"
    }
   },
   "outputs": [],
   "source": [
    "class DataGenerator(keras.utils.Sequence):\n",
    "\n",
    "    def __init__(\n",
    "        self, data_path, indexes=None, n_channels=3, batch_size=16, shuffle=True\n",
    "    ):\n",
    "        self.batch_size = batch_size\n",
    "        self.data_path = data_path\n",
    "        self.n_channels = n_channels\n",
    "        self.shuffle = shuffle\n",
    "        self.file = h5py.File(data_path, 'r')\n",
    "        if indexes is None:\n",
    "            self.indexes = np.arange(len(self.file['OPF']))\n",
    "        else:\n",
    "            self.indexes = indexes\n",
    "\n",
    "    def __len__(self):\n",
    "        return int(np.floor(len(self.indexes) / self.batch_size))\n",
    "\n",
    "    def __getitem__(self, index):\n",
    "        X, y = self.__data_generation(\n",
    "            list(self.indexes[index*self.batch_size:(index+1)*self.batch_size])\n",
    "        )\n",
    "        return X, y\n",
    "\n",
    "    def __del__(self):\n",
    "        self.file.close()\n",
    "\n",
    "    def on_epoch_end(self):\n",
    "        if self.shuffle:\n",
    "            np.random.shuffle(self.indexes)\n",
    "\n",
    "    def __data_generation(self, index):\n",
    "        index = list(index)\n",
    "        index.sort()\n",
    "        X = np.array(self.file['OPF'][index])\n",
    "        y = np.array(self.file['LBL'][index])\n",
    "        return X, y"
   ]
  },
  {
   "cell_type": "code",
   "execution_count": null,
   "outputs": [],
   "source": [
    "class SpeedNet(keras.Model):\n",
    "\n",
    "    def __init__(self, input_dim=(150, 300, 2), kernel_size=3):\n",
    "        super(SpeedNet, self).__init__()\n",
    "        self.layer0 = Conv2D(8, (kernel_size, kernel_size), activation='relu', data_format='channels_last')\n",
    "        self.layer1 = MaxPooling2D(pool_size=(1, 2))\n",
    "        self.layer2 = Conv2D(16, (kernel_size, kernel_size), activation='relu', data_format='channels_last')\n",
    "        self.layer3 = MaxPooling2D(pool_size=(1, 2))\n",
    "        self.layer4 = Conv2D(32, (kernel_size, kernel_size), activation='relu', data_format='channels_last')\n",
    "        self.layer5 = MaxPooling2D()\n",
    "        self.layer6 = Conv2D(64, (kernel_size, kernel_size), activation='relu', data_format='channels_last')\n",
    "        self.layer7 = MaxPooling2D()\n",
    "        self.layer8 = Conv2D(128, (kernel_size, kernel_size), activation='relu', data_format='channels_last')\n",
    "        self.layer9 = MaxPooling2D()\n",
    "        self.layer10 = Conv2D(256, (kernel_size, kernel_size), activation='relu', data_format='channels_last')\n",
    "        self.layer11 = MaxPooling2D()\n",
    "        self.layer12 = Conv2D(512, (kernel_size, kernel_size), activation='relu', data_format='channels_last', padding='same')\n",
    "        self.layer13 = MaxPooling2D()\n",
    "        self.layer14 = GlobalAveragePooling2D()\n",
    "        self.layer15 = Dropout(0.2)\n",
    "        self.layer16 = Dense(500, activation='relu')\n",
    "        self.layer17 = Dense(250, activation='relu')\n",
    "        self.layer18 = Dense(1, activation='relu')\n",
    "\n",
    "    def call(self, x):\n",
    "        x = self.layer0(x)\n",
    "        print(x.shape)\n",
    "        x = self.layer1(x)\n",
    "        print(x.shape)\n",
    "        x = self.layer2(x)\n",
    "        print(x.shape)\n",
    "        x = self.layer3(x)\n",
    "        print(x.shape)\n",
    "        x = self.layer4(x)\n",
    "        print(x.shape)\n",
    "        x = self.layer5(x)\n",
    "        print(x.shape)\n",
    "        x = self.layer6(x)\n",
    "        print(x.shape)\n",
    "        x = self.layer7(x)\n",
    "        print(x.shape)\n",
    "        x = self.layer8(x)\n",
    "        print(x.shape)\n",
    "        x = self.layer9(x)\n",
    "        print(x.shape)\n",
    "        x = self.layer10(x)\n",
    "        print(x.shape)\n",
    "        x = self.layer12(x)\n",
    "        print(x.shape)\n",
    "        x = self.layer13(x)\n",
    "        print(x.shape)\n",
    "        x = self.layer14(x)\n",
    "        print(x.shape)\n",
    "        x = self.layer15(x)\n",
    "        print(x.shape)\n",
    "        x = self.layer16(x)\n",
    "        print(x.shape)\n",
    "        x = self.layer17(x)\n",
    "        print(x.shape)\n",
    "        x = self.layer18(x)\n",
    "        print(x.shape)\n",
    "        return x"
   ],
   "metadata": {
    "collapsed": false,
    "pycharm": {
     "name": "#%% Define model\n"
    }
   }
  },
  {
   "cell_type": "code",
   "execution_count": null,
   "outputs": [],
   "source": [
    "TRAIN_COUNT = 20399\n",
    "\n",
    "kf = KFold(n_splits=5)\n",
    "\n",
    "valid_loss = []\n",
    "fold_var = 0\n",
    "\n",
    "for train_index, val_index in kf.split(np.arange(TRAIN_COUNT)):\n",
    "    train_data_generator = DataGenerator(\n",
    "        H5PY_PATH, indexes=train_index, batch_size=32\n",
    "    )\n",
    "    valid_data_generator = DataGenerator(\n",
    "        H5PY_PATH, indexes=val_index, batch_size=32\n",
    "    )\n",
    "\n",
    "    model = SpeedNet()\n",
    "    model.compile(loss='mse', optimizer='adam')\n",
    "\n",
    "    es = keras.callbacks.EarlyStopping(\n",
    "        monitor='val_loss',\n",
    "        mode='min',\n",
    "        verbose=1,\n",
    "        patience=3\n",
    "    )\n",
    "    mc = keras.callbacks.ModelCheckpoint(\n",
    "        f'./models/best_model_{fold_var}.h5',\n",
    "        monitor='val_loss',\n",
    "        mode='min',\n",
    "        save_best_only=True,\n",
    "        verbose=1\n",
    "    )\n",
    "\n",
    "    history = model.fit(\n",
    "        train_data_generator,\n",
    "        epochs=100,\n",
    "        callbacks=[es, mc],\n",
    "        validation_data=valid_data_generator\n",
    "    )\n",
    "\n",
    "    model.load_weights(f'./models/best_model_{fold_var}.h5')\n",
    "\n",
    "    results = model.evaluate(valid_data_generator)\n",
    "    valid_loss.append(results)\n",
    "\n",
    "    keras.backend.clear_session()\n",
    "\n",
    "    fold_var += 1"
   ],
   "metadata": {
    "collapsed": false,
    "pycharm": {
     "name": "#%% K-Fold\n"
    }
   }
  },
  {
   "cell_type": "code",
   "execution_count": null,
   "outputs": [],
   "source": [],
   "metadata": {
    "collapsed": false,
    "pycharm": {
     "name": "#%%\n"
    }
   }
  }
 ],
 "metadata": {
  "kernelspec": {
   "display_name": "Python 3",
   "language": "python",
   "name": "python3"
  },
  "language_info": {
   "codemirror_mode": {
    "name": "ipython",
    "version": 3
   },
   "file_extension": ".py",
   "mimetype": "text/x-python",
   "name": "python",
   "nbconvert_exporter": "python",
   "pygments_lexer": "ipython3",
   "version": "3.8.5"
  }
 },
 "nbformat": 4,
 "nbformat_minor": 1
}