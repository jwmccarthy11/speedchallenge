{
 "cells": [
  {
   "cell_type": "code",
   "execution_count": null,
   "metadata": {
    "collapsed": true
   },
   "outputs": [],
   "source": [
    "import h5py\n",
    "import numpy as np\n",
    "import cv2 as cv\n",
    "from PIL import Image, ImageEnhance\n",
    "from tqdm import tqdm"
   ]
  },
  {
   "cell_type": "code",
   "execution_count": null,
   "outputs": [],
   "source": [
    "TRAIN_PATH = r'.\\data\\train.mp4'\n",
    "LABEL_PATH = r'.\\data\\train.txt'\n",
    "H5PY_PATH  = r'.\\data\\train.h5'"
   ],
   "metadata": {
    "collapsed": false,
    "pycharm": {
     "name": "#%% Data\n"
    }
   }
  },
  {
   "cell_type": "code",
   "execution_count": null,
   "outputs": [],
   "source": [
    "def flow_from_frames(img0, img1):\n",
    "    \"\"\"\n",
    "    Computes dense optical flow between frames using Farneback method\n",
    "    \"\"\"\n",
    "    gray0 = cv.cvtColor(img0, cv.COLOR_BGR2GRAY)\n",
    "    gray1 = cv.cvtColor(img1, cv.COLOR_BGR2GRAY)\n",
    "    flow = cv.calcOpticalFlowFarneback(\n",
    "        gray0, gray1, None, 0.5, 1, 15, 2, 5, 1.3, 0\n",
    "    )\n",
    "    return flow\n",
    "\n",
    "def bgr_from_flow(flow):\n",
    "    \"\"\"\n",
    "    Generates BGR representation of optical flow given flow\n",
    "    \"\"\"\n",
    "    mag, ang = cv.cartToPolar(flow[...,0], flow[...,1])\n",
    "    hsv = np.zeros((mag.shape[0], mag.shape[1], 3)).astype(np.uint8)\n",
    "    hsv[...,0] = ang * 180 / np.pi / 2\n",
    "    hsv[...,1] = 255\n",
    "    hsv[...,2] = cv.normalize(mag, None, 0, 255, cv.NORM_MINMAX)\n",
    "    bgr = cv.cvtColor(hsv, cv.COLOR_HSV2BGR)\n",
    "    return bgr\n",
    "\n",
    "def bgr_from_frames(img0, img1):\n",
    "    \"\"\"\n",
    "    Generates BGR representation of optical flow given two frames\n",
    "    \"\"\"\n",
    "    return bgr_from_flow(flow_from_frames(img0, img1))\n",
    "\n",
    "def crop_frame(img, crop_dim, size_dim=None):\n",
    "    \"\"\"\n",
    "    Crops image to given dimensions\n",
    "    dim = (left, top, right, bottom)\n",
    "    \"\"\"\n",
    "    img = Image.fromarray(img)\n",
    "    img = img.crop(crop_dim)\n",
    "    return np.array(img)\n",
    "\n",
    "def resize_frame(img, dim):\n",
    "    \"\"\"\n",
    "    Resize image to given dimensions\n",
    "    dim = (width, height)\n",
    "    \"\"\"\n",
    "    img = Image.fromarray(img)\n",
    "    img = img.resize(dim)\n",
    "    return np.array(img)\n",
    "\n",
    "def crop_resize(img, crop_dim, size_dim):\n",
    "    \"\"\"\n",
    "    Crop and resize frame\n",
    "    \"\"\"\n",
    "    img = crop_frame(img, crop_dim)\n",
    "    img = resize_frame(img, size_dim)\n",
    "    return img\n",
    "\n",
    "def augment_frame(img, low=0.5, high=1.5):\n",
    "    \"\"\"\n",
    "    Augments brightness and color of image to avoid overfitting\n",
    "    \"\"\"\n",
    "    factor = np.random.uniform(low, high)\n",
    "    img = Image.fromarray(img)\n",
    "    img = ImageEnhance.Brightness(img).enhance(factor)\n",
    "    img = ImageEnhance.Color(img).enhance(factor)\n",
    "    return np.array(img)"
   ],
   "metadata": {
    "collapsed": false,
    "pycharm": {
     "name": "#%% Functions for frame processing\n"
    }
   }
  },
  {
   "cell_type": "code",
   "execution_count": null,
   "outputs": [],
   "source": [
    "# data dimensions\n",
    "TRAIN_COUNT = 20400\n",
    "CROP_DIM = (0, 40, 640, 360)\n",
    "RESIZE_DIM = (300, 150)\n",
    "FRAME_CHANNELS = 3\n",
    "FLOW_CHANNELS = 2\n",
    "\n",
    "# raw train data\n",
    "lbl = np.loadtxt(LABEL_PATH)\n",
    "cap = cv.VideoCapture(TRAIN_PATH)\n",
    "\n",
    "# train datasets\n",
    "file = h5py.File(H5PY_PATH, 'w')\n",
    "frames = file.create_dataset(\n",
    "    'FRM',\n",
    "    shape=(TRAIN_COUNT-1, RESIZE_DIM[1], RESIZE_DIM[0], FRAME_CHANNELS*2),\n",
    "    maxshape=(None, RESIZE_DIM[1], RESIZE_DIM[0], FRAME_CHANNELS*2),\n",
    "    chunks=(1, RESIZE_DIM[1], RESIZE_DIM[0], FRAME_CHANNELS*2),\n",
    "    dtype=np.uint8\n",
    ")\n",
    "op_flows = file.create_dataset(\n",
    "    'OPF',\n",
    "    shape=(TRAIN_COUNT-1, RESIZE_DIM[1], RESIZE_DIM[0], FLOW_CHANNELS),\n",
    "    maxshape=(None, RESIZE_DIM[1], RESIZE_DIM[0], FLOW_CHANNELS),\n",
    "    chunks=(1, RESIZE_DIM[1], RESIZE_DIM[0], FLOW_CHANNELS),\n",
    "    dtype='f4'\n",
    ")\n",
    "speeds = file.create_dataset(\n",
    "    'LBL', data=lbl[1:], dtype='f4'\n",
    ")\n",
    "\n",
    "# initial frame\n",
    "ret, img0 = cap.read()\n",
    "img0 = crop_resize(img0, CROP_DIM, RESIZE_DIM)\n",
    "\n",
    "pbar = tqdm(total=TRAIN_COUNT-1, position=0, leave=2)\n",
    "while True:\n",
    "    frame_id = int(cap.get(1))-1\n",
    "    ret, img1 = cap.read()\n",
    "    if cv.waitKey(1) & 0xFF == ord('q') or not ret:\n",
    "        break\n",
    "    img1 = crop_resize(img1, CROP_DIM, RESIZE_DIM)\n",
    "    flow = flow_from_frames(img0, img1)\n",
    "    # cv.imshow('', img1)\n",
    "    file['FRM'][frame_id] = np.concatenate(\n",
    "        (img0/255., img1/255.), axis=2\n",
    "    )\n",
    "    file['OPF'][frame_id] = flow\n",
    "    img0 = img1\n",
    "    pbar.update()\n",
    "cv.destroyAllWindows()\n",
    "\n",
    "file.close()\n"
   ],
   "metadata": {
    "collapsed": false,
    "pycharm": {
     "name": "#%% Save train data frames + optical flow\n"
    }
   }
  }
 ],
 "metadata": {
  "kernelspec": {
   "display_name": "Python 3",
   "language": "python",
   "name": "python3"
  },
  "language_info": {
   "codemirror_mode": {
    "name": "ipython",
    "version": 2
   },
   "file_extension": ".py",
   "mimetype": "text/x-python",
   "name": "python",
   "nbconvert_exporter": "python",
   "pygments_lexer": "ipython2",
   "version": "2.7.6"
  }
 },
 "nbformat": 4,
 "nbformat_minor": 0
}